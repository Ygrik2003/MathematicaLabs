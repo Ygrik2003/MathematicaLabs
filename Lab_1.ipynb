{
 "cells": [
  {
   "cell_type": "code",
   "execution_count": 1,
   "metadata": {},
   "outputs": [],
   "source": [
    "from math import sin, cos\n",
    "\n",
    "\n",
    "EPSILON = 0.000001\n",
    "\n",
    "def func(x, order=0):\n",
    "    if order == 0:\n",
    "        return sin(x ** 2) + cos(x ** 2) - 10 * x\n",
    "    else:\n",
    "        return (func(x - 2 * EPSILON, order - 1) - 8 * func(x - EPSILON, order - 1) + 8 * func(x + EPSILON, order - 1) - func(x + 2 * EPSILON, order - 1)) / (12 * EPSILON)"
   ]
  },
  {
   "cell_type": "code",
   "execution_count": 2,
   "metadata": {},
   "outputs": [],
   "source": [
    "def dichotomiesMethod(func, a, b):\n",
    "    result = ...\n",
    "    if abs(func(a)) < EPSILON:\n",
    "        return a\n",
    "    if abs(func(b)) < EPSILON:\n",
    "        return b\n",
    "    if a > b:\n",
    "        return None\n",
    "    if func((a + b) / 2) * func(a) < 0:\n",
    "        result = dichotomiesMethod(func, a, (a + b) / 2)\n",
    "    else:\n",
    "        result = dichotomiesMethod(func, (a + b) / 2, b)\n",
    "    return result\n",
    "\n",
    "\n",
    "def simpleIterationsMethod(func, x0):\n",
    "    x = func(x0)\n",
    "    tau = 1\n",
    "    while abs(x - x0) > EPSILON:\n",
    "        x0 = x\n",
    "        x += func(x0)\n",
    "\n",
    "def tangentsMethod(func, x0):\n",
    "\tx, x_prev = x0, x0 + 2 * EPSILON\n",
    "\t\n",
    "\twhile abs(x - x_prev) >= EPSILON:\n",
    "\t\tx, x_prev = x - func(x) / func(x), x\n",
    "\n",
    "\treturn x"
   ]
  },
  {
   "cell_type": "code",
   "execution_count": null,
   "metadata": {},
   "outputs": [
    {
     "ename": "",
     "evalue": "",
     "output_type": "error",
     "traceback": [
      "\u001b[1;31mCanceled future for execute_request message before replies were done"
     ]
    },
    {
     "ename": "",
     "evalue": "",
     "output_type": "error",
     "traceback": [
      "\u001b[1;31mThe Kernel crashed while executing code in the the current cell or a previous cell. Please review the code in the cell(s) to identify a possible cause of the failure. Click <a href='https://aka.ms/vscodeJupyterKernelCrash'>here</a> for more info. View Jupyter <a href='command:jupyter.viewOutput'>log</a> for further details."
     ]
    }
   ],
   "source": [
    "start = 0\n",
    "stop = 1\n",
    "\n",
    "dichotomies_result = []\n",
    "dichotomies_result.append(dichotomiesMethod(func, start, stop))\n",
    "while dichotomies_result[-1] != None:\n",
    "    dichotomies_result.append(dichotomiesMethod(func, dichotomies_result[-1] + 2 * EPSILON, stop))\n",
    "\n",
    "print(\"Метод Дихотомии: \", dichotomies_result)\n",
    "#print(\"Метод Дихотомии: \", simpleIterationsMethod(func, -5))\n",
    "print(\"Метод Дихотомии: \", tangentsMethod(func, -5))"
   ]
  },
  {
   "cell_type": "code",
   "execution_count": null,
   "metadata": {},
   "outputs": [],
   "source": []
  }
 ],
 "metadata": {
  "kernelspec": {
   "display_name": "base",
   "language": "python",
   "name": "python3"
  },
  "language_info": {
   "codemirror_mode": {
    "name": "ipython",
    "version": 3
   },
   "file_extension": ".py",
   "mimetype": "text/x-python",
   "name": "python",
   "nbconvert_exporter": "python",
   "pygments_lexer": "ipython3",
   "version": "3.10.8"
  },
  "orig_nbformat": 4,
  "vscode": {
   "interpreter": {
    "hash": "2159013dffddf4f965dea9f26ba7dde96d5d9669ccf1a7a20712f4708850db8f"
   }
  }
 },
 "nbformat": 4,
 "nbformat_minor": 2
}
